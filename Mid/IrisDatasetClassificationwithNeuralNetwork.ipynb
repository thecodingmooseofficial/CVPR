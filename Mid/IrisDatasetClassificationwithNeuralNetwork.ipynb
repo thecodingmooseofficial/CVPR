{
  "nbformat": 4,
  "nbformat_minor": 0,
  "metadata": {
    "colab": {
      "provenance": []
    },
    "kernelspec": {
      "name": "python3",
      "display_name": "Python 3"
    },
    "language_info": {
      "name": "python"
    }
  },
  "cells": [
    {
      "cell_type": "markdown",
      "source": [
        "###**Library Imports**"
      ],
      "metadata": {
        "id": "5-XDV2dJzgCL"
      }
    },
    {
      "cell_type": "code",
      "execution_count": 1,
      "metadata": {
        "id": "NW7db_DBy50C"
      },
      "outputs": [],
      "source": [
        "import numpy as np\n",
        "import matplotlib.pyplot as plt"
      ]
    },
    {
      "cell_type": "markdown",
      "source": [
        "#**Data Preprocessing**"
      ],
      "metadata": {
        "id": "QTa8bvEKzuVi"
      }
    },
    {
      "cell_type": "markdown",
      "source": [
        "The Iris dataset consists of 150 samples from three different species of Iris flowers: Setosa, Versicolor, and Virginica. Each sample has four features: sepal length, sepal width, petal length, and petal width. The dataset is commonly used for classification tasks to predict the species of a flower based on its features."
      ],
      "metadata": {
        "id": "Lfn-62qn5VmR"
      }
    },
    {
      "cell_type": "code",
      "source": [
        "#Define the Iris dataset - includes features and labels.\n",
        "iris_data = np.array([\n",
        "    [5.1, 3.5, 1.4, 0.2, 0],  #Setosa\n",
        "    [4.9, 3.0, 1.4, 0.2, 0],\n",
        "    [4.7, 3.2, 1.3, 0.2, 0],\n",
        "    [4.6, 3.1, 1.5, 0.2, 0],\n",
        "    [5.0, 3.6, 1.4, 0.2, 0],\n",
        "    [7.0, 3.2, 4.7, 1.4, 1],  #Versicolor\n",
        "    [6.4, 3.2, 4.5, 1.5, 1],\n",
        "    [6.9, 3.1, 4.9, 1.5, 1],\n",
        "    [5.5, 2.3, 4.0, 1.3, 1],\n",
        "    [6.5, 2.8, 4.6, 1.5, 1],\n",
        "    [6.3, 3.3, 6.0, 2.5, 2],  #Virginica\n",
        "    [5.8, 2.7, 5.1, 1.9, 2],\n",
        "    [7.1, 3.0, 5.9, 2.1, 2],\n",
        "    [6.3, 2.9, 5.6, 1.8, 2],\n",
        "    [6.5, 3.0, 5.8, 2.2, 2],\n",
        "])\n",
        "\n",
        "#Split features and labels\n",
        "X = iris_data[:, :4]  # Features\n",
        "y = iris_data[:, 4]  # Labels\n",
        "\n",
        "#Normalize features (Min-Max Scaling)\n",
        "X_min = np.min(X, axis=0)\n",
        "X_max = np.max(X, axis=0)\n",
        "X = (X - X_min) / (X_max - X_min)\n"
      ],
      "metadata": {
        "id": "KABkAPZMztuD"
      },
      "execution_count": 2,
      "outputs": []
    },
    {
      "cell_type": "markdown",
      "source": [
        "#**Neural Network Class**"
      ],
      "metadata": {
        "id": "f2Pb5t_80VMg"
      }
    },
    {
      "cell_type": "markdown",
      "source": [
        "The model is initialized by randomly setting the weights and biases for the layers. It uses **ReLU  (Rectified Linear Unit)** in the hidden layer to introduce non-linearity and **Softmax** in the output layer to convert raw scores into probabilities for classification tasks. During **forward propagation**, the input is passed through the network to compute the output, while** backward propagation **adjusts the weights and biases by computing the gradients of the loss with respect to the network parameters. The model is trained for 1000 epochs, with the weights and biases updated based on the categorical cross-entropy loss function."
      ],
      "metadata": {
        "id": "EqezIerq51yg"
      }
    },
    {
      "cell_type": "code",
      "source": [
        "#Neural Network Class\n",
        "class NeuralNetwork:\n",
        "    def __init__(self, input_neurons, hidden_neurons, output_neurons, learning_rate):\n",
        "        self.W1 = np.random.randn(input_neurons, hidden_neurons)\n",
        "        self.b1 = np.zeros((1, hidden_neurons))\n",
        "        self.W2 = np.random.randn(hidden_neurons, output_neurons)\n",
        "        self.b2 = np.zeros((1, output_neurons))\n",
        "        self.learning_rate = learning_rate\n",
        "\n",
        "    def relu(self, x):\n",
        "        return np.maximum(0, x)\n",
        "\n",
        "    def relu_derivative(self, x):\n",
        "        return (x > 0).astype(float)\n",
        "\n",
        "    def softmax(self, x):\n",
        "        exp_values = np.exp(x - np.max(x, axis=1, keepdims=True))  #Avoid numerical instability\n",
        "        return exp_values / np.sum(exp_values, axis=1, keepdims=True)\n",
        "\n",
        "    def forward(self, X):\n",
        "        self.hidden_input = np.dot(X, self.W1) + self.b1\n",
        "        self.hidden_output = self.relu(self.hidden_input)\n",
        "        self.output_input = np.dot(self.hidden_output, self.W2) + self.b2\n",
        "        self.output = self.softmax(self.output_input)\n",
        "        return self.output\n",
        "\n",
        "    def backward(self, X, y_true):\n",
        "        #Calculating error (integer labels directly for categorical cross-entropy)\n",
        "        output_error = self.output.copy()\n",
        "        output_error[np.arange(len(y_true)), y_true.astype(int)] -= 1  #Subtract 1 from correct class\n",
        "        output_error /= X.shape[0]  #Normalize by batch size\n",
        "\n",
        "        hidden_error = np.dot(output_error, self.W2.T) * self.relu_derivative(self.hidden_input)\n",
        "\n",
        "        #Gradient updates\n",
        "        self.W2 -= self.learning_rate * np.dot(self.hidden_output.T, output_error)\n",
        "        self.b2 -= self.learning_rate * np.sum(output_error, axis=0, keepdims=True)\n",
        "        self.W1 -= self.learning_rate * np.dot(X.T, hidden_error)\n",
        "        self.b1 -= self.learning_rate * np.sum(hidden_error, axis=0, keepdims=True)\n",
        "\n",
        "    def train(self, X, y_true, epochs):\n",
        "        loss_history = []\n",
        "        for epoch in range(epochs):\n",
        "            #Forward pass\n",
        "            self.forward(X)\n",
        "            #Compute loss (categorical cross-entropy)\n",
        "            loss = -np.sum(np.log(self.output[np.arange(len(y_true)), y_true.astype(int)] + 1e-8)) / X.shape[0]\n",
        "            loss_history.append(loss)\n",
        "            #Backward pass\n",
        "            self.backward(X, y_true)\n",
        "            if epoch % 100 == 0:\n",
        "                print(f\"Epoch {epoch}, Loss: {loss:.4f}\")\n",
        "        return loss_history"
      ],
      "metadata": {
        "id": "fD_8J9HL0Y2X"
      },
      "execution_count": 3,
      "outputs": []
    },
    {
      "cell_type": "markdown",
      "source": [
        "#**Model Initialization and Training**"
      ],
      "metadata": {
        "id": "1czbjXsi0_22"
      }
    },
    {
      "cell_type": "code",
      "source": [
        "#Initialize neural network\n",
        "nn = NeuralNetwork(input_neurons=4, hidden_neurons=6, output_neurons=3, learning_rate=0.01)\n",
        "\n",
        "#Train the model\n",
        "loss_history = nn.train(X, y, epochs=1000)\n",
        "\n",
        "#Plot Loss\n",
        "plt.figure(figsize=(8, 5))\n",
        "plt.plot(loss_history, label=\"Training Loss\")\n",
        "plt.title(\"Training Loss Over Epochs\")\n",
        "plt.xlabel(\"Epochs\")\n",
        "plt.ylabel(\"Loss\")\n",
        "plt.grid(True)\n",
        "plt.legend()\n",
        "plt.show()\n"
      ],
      "metadata": {
        "colab": {
          "base_uri": "https://localhost:8080/",
          "height": 661
        },
        "id": "XTDPDsh_1EKm",
        "outputId": "40177123-eddf-4009-a814-a49785916caa"
      },
      "execution_count": 4,
      "outputs": [
        {
          "output_type": "stream",
          "name": "stdout",
          "text": [
            "Epoch 0, Loss: 1.8252\n",
            "Epoch 100, Loss: 0.9188\n",
            "Epoch 200, Loss: 0.8069\n",
            "Epoch 300, Loss: 0.7290\n",
            "Epoch 400, Loss: 0.6649\n",
            "Epoch 500, Loss: 0.6131\n",
            "Epoch 600, Loss: 0.5725\n",
            "Epoch 700, Loss: 0.5411\n",
            "Epoch 800, Loss: 0.5166\n",
            "Epoch 900, Loss: 0.4972\n"
          ]
        },
        {
          "output_type": "display_data",
          "data": {
            "text/plain": [
              "<Figure size 800x500 with 1 Axes>"
            ],
            "image/png": "[encoded data removed]"
          },
          "metadata": {}
        }
      ]
    },
    {
      "cell_type": "markdown",
      "source": [
        "#**Predictions and Evaluation**"
      ],
      "metadata": {
        "id": "ryblbXd91RAM"
      }
    },
    {
      "cell_type": "code",
      "source": [
        "predictions = nn.forward(X)\n",
        "predicted_classes = np.argmax(predictions, axis=1)\n",
        "\n",
        "print(\"True labels:\", y)\n",
        "print(\"Predicted labels:\", predicted_classes)"
      ],
      "metadata": {
        "colab": {
          "base_uri": "https://localhost:8080/"
        },
        "id": "c6p-ogz71Wf1",
        "outputId": "e9566be5-2985-4a83-c2f9-75c481a6b69a"
      },
      "execution_count": 5,
      "outputs": [
        {
          "output_type": "stream",
          "name": "stdout",
          "text": [
            "True labels: [0. 0. 0. 0. 0. 1. 1. 1. 1. 1. 2. 2. 2. 2. 2.]\n",
            "Predicted labels: [0 0 0 0 0 2 1 2 1 2 2 2 2 2 2]\n"
          ]
        }
      ]
    }
  ]
}