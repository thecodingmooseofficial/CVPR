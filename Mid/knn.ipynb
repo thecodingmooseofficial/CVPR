{
  "nbformat": 4,
  "nbformat_minor": 0,
  "metadata": {
    "colab": {
      "provenance": []
    },
    "kernelspec": {
      "name": "python3",
      "display_name": "Python 3"
    },
    "language_info": {
      "name": "python"
    }
  },
  "cells": [
    {
      "cell_type": "markdown",
      "source": [
        "Library Imports"
      ],
      "metadata": {
        "id": "iLPPyHzg2620"
      }
    },
    {
      "cell_type": "code",
      "source": [
        "import os\n",
        "import cv2\n",
        "import numpy as np\n",
        "import matplotlib.pyplot as plt"
      ],
      "metadata": {
        "id": "dMrAUMyV22o8"
      },
      "execution_count": 4,
      "outputs": []
    },
    {
      "cell_type": "markdown",
      "source": [
        "# Step 1: Load Dataset"
      ],
      "metadata": {
        "id": "p6OHngAi25cg"
      }
    },
    {
      "cell_type": "code",
      "source": [
        "def load_dataset(data_path, img_size=(64, 64)):\n",
        "    \"\"\"\n",
        "    Load images from the dataset folder, resize, and convert to grayscale.\n",
        "    \"\"\"\n",
        "    categories = os.listdir(data_path)  # Class names\n",
        "    data = []\n",
        "    labels = []\n",
        "\n",
        "    for label, category in enumerate(categories):\n",
        "        folder_path = os.path.join(data_path, category)\n",
        "        for img_name in os.listdir(folder_path):\n",
        "            img_path = os.path.join(folder_path, img_name)\n",
        "            img = cv2.imread(img_path, cv2.IMREAD_GRAYSCALE)  # Load as grayscale\n",
        "            img = cv2.resize(img, img_size)  # Resize to consistent dimensions\n",
        "            data.append(img.flatten())  # Flatten the image to 1D\n",
        "            labels.append(label)  # Use the folder name as the label\n",
        "\n",
        "    return np.array(data), np.array(labels)"
      ],
      "metadata": {
        "id": "5TD2UIa13ENf"
      },
      "execution_count": 5,
      "outputs": []
    },
    {
      "cell_type": "code",
      "source": [
        "np.array(data), np.array(labels)"
      ],
      "metadata": {
        "colab": {
          "base_uri": "https://localhost:8080/"
        },
        "id": "uNQ0A6gZ4Hls",
        "outputId": "945f5d7a-a3f7-4394-975b-c12dd5d419fb"
      },
      "execution_count": 12,
      "outputs": [
        {
          "output_type": "execute_result",
          "data": {
            "text/plain": [
              "(array([[ 22,  22,  22, ...,  99,  70,  95],\n",
              "        [ 84,  85,  84, ..., 151,  88,  98],\n",
              "        [ 29,  25,  23, ...,  78,  75,  55],\n",
              "        ...,\n",
              "        [ 21,  18,   0, ...,  57,  49,  49],\n",
              "        [  9,   8,  12, ...,   1,   1,   1],\n",
              "        [ 80,  60,  59, ...,  73,  66, 114]], dtype=uint8),\n",
              " array([0, 0, 0, 0, 0, 0, 0, 0, 0, 0, 0, 0, 0, 0, 0, 0, 0, 0, 0, 0, 0, 0,\n",
              "        0, 0, 0, 0, 0, 0, 0, 0, 0, 0, 0, 0, 0, 0, 0, 0, 1, 1, 1, 1, 1, 1,\n",
              "        1, 1, 1, 1, 1, 1, 1, 1, 1, 1, 1, 1, 1, 1, 1, 1, 1, 1, 1, 1, 1, 1,\n",
              "        1, 1, 1, 2, 2, 2, 2, 2, 2, 2, 2, 2, 2, 2, 2, 2, 2, 2, 2, 2, 2, 2,\n",
              "        2, 2, 2, 2, 2, 2, 2, 2, 2, 2, 2, 3, 3, 3, 3, 3, 3, 3, 3, 3, 3, 3,\n",
              "        3, 3, 3, 3, 3, 3, 3, 3, 3, 3, 3, 3, 3, 3, 3, 3, 3, 3, 3, 3, 3, 4,\n",
              "        4, 4, 4, 4, 4, 4, 4, 4, 4, 4, 4, 4, 4, 4, 4, 4, 4, 4, 4, 4, 4, 4,\n",
              "        4, 4, 4, 4, 4, 4, 4, 4, 4, 4, 4, 4, 4, 4, 4, 4]))"
            ]
          },
          "metadata": {},
          "execution_count": 12
        }
      ]
    },
    {
      "cell_type": "markdown",
      "source": [
        "# Step 2: Euclidean Distance"
      ],
      "metadata": {
        "id": "N3F-Fcz13L3-"
      }
    },
    {
      "cell_type": "code",
      "source": [
        "def euclidean_distance(x1, x2):\n",
        "    \"\"\"\n",
        "    Compute the Euclidean distance between two points.\n",
        "    \"\"\"\n",
        "    return np.sqrt(np.sum((x1 - x2) ** 2))"
      ],
      "metadata": {
        "id": "Ov5djc1R3LCm"
      },
      "execution_count": 8,
      "outputs": []
    },
    {
      "cell_type": "markdown",
      "source": [
        "# Step 3: k-NN Algorithm"
      ],
      "metadata": {
        "id": "v2ziAvLd3PrU"
      }
    },
    {
      "cell_type": "code",
      "source": [
        "def knn_classifier(train_data, train_labels, test_data, k):\n",
        "    \"\"\"\n",
        "    Classify a single test instance using k-Nearest Neighbors.\n",
        "    \"\"\"\n",
        "    distances = [euclidean_distance(test_data, train_data[i]) for i in range(len(train_data))]\n",
        "    k_nearest_indices = np.argsort(distances)[:k]\n",
        "    k_nearest_labels = [train_labels[i] for i in k_nearest_indices]\n",
        "\n",
        "    # Find the most common label (without Counter)\n",
        "    label_counts = {}\n",
        "    for label in k_nearest_labels:\n",
        "        label_counts[label] = label_counts.get(label, 0) + 1\n",
        "    most_common_label = max(label_counts, key=label_counts.get)\n",
        "\n",
        "    return most_common_label"
      ],
      "metadata": {
        "id": "yfPvyuJ83Qbk"
      },
      "execution_count": 9,
      "outputs": []
    },
    {
      "cell_type": "markdown",
      "source": [
        "# Step 4: Manual 5-Fold Cross-Validation"
      ],
      "metadata": {
        "id": "3nK8RFqc3ZCY"
      }
    },
    {
      "cell_type": "code",
      "source": [
        "\n",
        "def manual_cross_validation(data, labels, k_values, folds=5):\n",
        "    \"\"\"\n",
        "    Perform manual 5-fold cross-validation and return average accuracies for each k.\n",
        "    \"\"\"\n",
        "    data_split = np.array_split(data, folds)\n",
        "    labels_split = np.array_split(labels, folds)\n",
        "    avg_accuracies = []\n",
        "\n",
        "    for k in k_values:\n",
        "        fold_accuracies = []\n",
        "\n",
        "        for i in range(folds):\n",
        "            # Prepare test and train sets for the current fold\n",
        "            test_indices = range(i * len(data) // folds, (i + 1) * len(data) // folds)\n",
        "            train_indices = [j for j in range(len(data)) if j not in test_indices]\n",
        "\n",
        "            X_test, y_test = data[test_indices], labels[test_indices]\n",
        "            X_train, y_train = data[train_indices], labels[train_indices]\n",
        "\n",
        "            # Evaluate on the validation set\n",
        "            correct = 0\n",
        "            for j, test_sample in enumerate(X_test):\n",
        "                pred = knn_classifier(X_train, y_train, test_sample, k)\n",
        "                if pred == y_test[j]:\n",
        "                    correct += 1\n",
        "            fold_accuracies.append(correct / len(X_test))\n",
        "\n",
        "        avg_accuracies.append(sum(fold_accuracies) / folds)\n",
        "\n",
        "    return avg_accuracies"
      ],
      "metadata": {
        "id": "kT6nr8q83Zi0"
      },
      "execution_count": 10,
      "outputs": []
    },
    {
      "cell_type": "markdown",
      "source": [
        "# Step 5: Visualization"
      ],
      "metadata": {
        "id": "i_0KM7dm3jTz"
      }
    },
    {
      "cell_type": "code",
      "source": [
        "def plot_accuracies(k_values, avg_accuracies):\n",
        "    \"\"\"\n",
        "    Plot average accuracies for each k value.\n",
        "    \"\"\"\n",
        "    plt.figure(figsize=(10, 6))\n",
        "    plt.plot(k_values, avg_accuracies, marker='o', linestyle='-', color='b')\n",
        "    plt.title('k-NN Accuracy vs. K Values')\n",
        "    plt.xlabel('Number of Neighbors (K)')\n",
        "    plt.ylabel('Average Accuracy')\n",
        "    plt.grid(True)\n",
        "    plt.show()\n",
        "\n",
        "# Main Code Execution\n",
        "if __name__ == \"__main__\":\n",
        "    # Load the dataset\n",
        "    data_path = \"/content/drive/MyDrive/Colab Notebooks/CVPR/Animals\"  # Path to your dataset folder\n",
        "    img_size = (64, 64)  # Resize images to 64x64\n",
        "    data, labels = load_dataset(data_path, img_size)\n",
        "\n",
        "    # Define K values\n",
        "    k_values = range(1, 31)\n",
        "\n",
        "    # Perform manual 5-fold cross-validation\n",
        "    avg_accuracies = manual_cross_validation(data, labels, k_values, folds=5)\n",
        "\n",
        "    # Plot the results\n",
        "    plot_accuracies(k_values, avg_accuracies)"
      ],
      "metadata": {
        "colab": {
          "base_uri": "https://localhost:8080/",
          "height": 564
        },
        "id": "VBqsq77P3iPx",
        "outputId": "f1ca4c51-8a0c-4c76-c094-7897363d13af"
      },
      "execution_count": 11,
      "outputs": [
        {
          "output_type": "display_data",
          "data": {
            "text/plain": [
              "<Figure size 1000x600 with 1 Axes>"
            ],
            "image/png": "[encoded data removed]"
          },
          "metadata": {}
        }
      ]
    }
  ]
}